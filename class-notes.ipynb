{
 "cells": [
  {
   "cell_type": "markdown",
   "metadata": {},
   "source": [
    "# Welcome to CS 140: Python Unit, Part 1\n",
    "This Notebook is for the first few weeks in Python, we will transition to making our own standalone applications in Part 2!\n",
    "\n",
    "**Make a new Code cell by clicking the + Code button at the top of the notebook.**"
   ]
  },
  {
   "cell_type": "code",
   "execution_count": 2,
   "metadata": {},
   "outputs": [
    {
     "name": "stdout",
     "output_type": "stream",
     "text": [
      "Hello World!\n",
      "CS 265\n"
     ]
    }
   ],
   "source": [
    "print(\"Hello World!\") # This is how to print\n",
    "\n",
    "first_var = \"CS 265\"\n",
    "print(first_var)"
   ]
  },
  {
   "cell_type": "code",
   "execution_count": null,
   "metadata": {},
   "outputs": [
    {
     "name": "stdout",
     "output_type": "stream",
     "text": [
      "CS 265\n",
      "Jasmine\n",
      "The entered name is: Jasmine\n"
     ]
    }
   ],
   "source": [
    "print(first_var)\n",
    "\n",
    "user_input = input(\"Enter your name\")\n",
    "print(user_input)\n",
    "print(\"The entered name is: \" + user_input) # using concatenation to print a longer statement"
   ]
  },
  {
   "cell_type": "code",
   "execution_count": 6,
   "metadata": {},
   "outputs": [
    {
     "name": "stdout",
     "output_type": "stream",
     "text": [
      "I'm in class CS140\n"
     ]
    }
   ],
   "source": [
    "string1 = \"I'm in class\"\n",
    "string2 = \" CS140\"\n",
    "\n",
    "print(string1 + string2)"
   ]
  },
  {
   "cell_type": "code",
   "execution_count": 9,
   "metadata": {},
   "outputs": [
    {
     "name": "stdout",
     "output_type": "stream",
     "text": [
      "this is input 1: Test1\n",
      "this is input 2: Test2\n"
     ]
    }
   ],
   "source": [
    "input1 = input(\"Input1\")\n",
    "input2 = input(\"Input2\")\n",
    "\n",
    "print(\"this is input 1: \" + input1)\n",
    "print(\"this is input 2: \" + input2)"
   ]
  }
 ],
 "metadata": {
  "kernelspec": {
   "display_name": "Python 3",
   "language": "python",
   "name": "python3"
  },
  "language_info": {
   "codemirror_mode": {
    "name": "ipython",
    "version": 3
   },
   "file_extension": ".py",
   "mimetype": "text/x-python",
   "name": "python",
   "nbconvert_exporter": "python",
   "pygments_lexer": "ipython3",
   "version": "3.12.1"
  }
 },
 "nbformat": 4,
 "nbformat_minor": 2
}
